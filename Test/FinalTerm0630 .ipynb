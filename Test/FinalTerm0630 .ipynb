{
 "cells": [
  {
   "cell_type": "markdown",
   "metadata": {},
   "source": [
    "## 06/03 期末考\n",
    "### B0744144 左庭瑀 資工二甲"
   ]
  },
  {
   "cell_type": "code",
   "execution_count": 1,
   "metadata": {},
   "outputs": [],
   "source": [
    "import numpy as np\n",
    "PI2 = 2 * np.pi\n",
    "from scipy.fftpack import fft, ifft\n",
    "import scipy "
   ]
  },
  {
   "cell_type": "markdown",
   "metadata": {},
   "source": [
    "### 1.\n",
    "1.a"
   ]
  },
  {
   "cell_type": "code",
   "execution_count": 20,
   "metadata": {},
   "outputs": [
    {
     "name": "stdout",
     "output_type": "stream",
     "text": [
      "[1.+0.j 1.+0.j 1.+0.j 1.+0.j 1.+0.j 1.+0.j 1.+0.j 1.+0.j]\n"
     ]
    }
   ],
   "source": [
    "x1n = [1,0,0,0,0,0,0,0]\n",
    "x1k= np.fft.fft(x1n)\n",
    "print(x1k)"
   ]
  },
  {
   "cell_type": "markdown",
   "metadata": {},
   "source": [
    "1.b"
   ]
  },
  {
   "cell_type": "code",
   "execution_count": 21,
   "metadata": {},
   "outputs": [
    {
     "name": "stdout",
     "output_type": "stream",
     "text": [
      "[8.+0.j 0.+0.j 0.+0.j 0.+0.j 0.+0.j 0.+0.j 0.+0.j 0.+0.j]\n"
     ]
    }
   ],
   "source": [
    "x2n = [1,1,1,1,1,1,1,1]\n",
    "x2k= np.fft.fft(x2n)\n",
    "print(x2k)"
   ]
  },
  {
   "cell_type": "markdown",
   "metadata": {},
   "source": [
    "1.c"
   ]
  },
  {
   "cell_type": "code",
   "execution_count": 22,
   "metadata": {},
   "outputs": [
    {
     "name": "stdout",
     "output_type": "stream",
     "text": [
      "[0.+0.j 0.+0.j 0.+0.j 0.+0.j 8.+0.j 0.+0.j 0.+0.j 0.+0.j]\n"
     ]
    }
   ],
   "source": [
    "x3n = [1,-1,1,-1,1,-1,1,-1]\n",
    "x3k= np.fft.fft(x3n)\n",
    "print(x3k)"
   ]
  },
  {
   "cell_type": "markdown",
   "metadata": {},
   "source": [
    "1.d"
   ]
  },
  {
   "cell_type": "code",
   "execution_count": 23,
   "metadata": {},
   "outputs": [
    {
     "name": "stdout",
     "output_type": "stream",
     "text": [
      "[ 9.        +0.00000000e+00j -6.38512323-5.31752075e-01j\n",
      "  3.59807621+2.32050808e-01j  1.        +0.00000000e+00j\n",
      " -1.5       -8.66025404e-01j  1.71088861-1.42482539e-01j\n",
      "  1.        +0.00000000e+00j -0.9788378 -1.41043173e+00j\n",
      "  1.5       -8.66025404e-01j  1.        -2.22044605e-16j\n",
      " -1.59807621-3.23205081e+00j  3.65307242-5.26380288e+00j\n",
      "  9.        -1.11022302e-16j  3.65307242+5.26380288e+00j\n",
      " -1.59807621+3.23205081e+00j  1.        -1.11022302e-16j\n",
      "  1.5       +8.66025404e-01j -0.9788378 +1.41043173e+00j\n",
      "  1.        +0.00000000e+00j  1.71088861+1.42482539e-01j\n",
      " -1.5       +8.66025404e-01j  1.        +4.44089210e-16j\n",
      "  3.59807621-2.32050808e-01j -6.38512323+5.31752075e-01j]\n"
     ]
    }
   ],
   "source": [
    "x4n = x1n+x2n+x3n\n",
    "x4k= np.fft.fft(x4n)\n",
    "print(x4k)"
   ]
  },
  {
   "cell_type": "markdown",
   "metadata": {},
   "source": [
    "1.e"
   ]
  },
  {
   "cell_type": "code",
   "execution_count": null,
   "metadata": {},
   "outputs": [],
   "source": []
  },
  {
   "cell_type": "markdown",
   "metadata": {},
   "source": [
    "1.f"
   ]
  },
  {
   "cell_type": "code",
   "execution_count": 26,
   "metadata": {},
   "outputs": [
    {
     "name": "stdout",
     "output_type": "stream",
     "text": [
      "[ 0.5      -0.j     0.3017767-0.125j  0.       +0.j    -0.0517767+0.125j\n",
      "  0.       -0.j    -0.0517767-0.125j  0.       -0.j     0.3017767+0.125j]\n",
      "[ 0.375    -0.j  0.3017767-0.j  0.125    +0.j -0.0517767-0.j\n",
      " -0.125    -0.j -0.0517767+0.j  0.125    -0.j  0.3017767+0.j]\n"
     ]
    }
   ],
   "source": [
    "x5k=[1,1,0,0,0,0,1,1]\n",
    "x6k=[1,1,0,0,0,0,0,1]\n",
    "x5n=scipy.fftpack.ifft(x5k)\n",
    "x6n=scipy.fftpack.ifft(x6k)\n",
    "print(x5n)\n",
    "print(x6n)"
   ]
  },
  {
   "cell_type": "markdown",
   "metadata": {},
   "source": []
  },
  {
   "cell_type": "markdown",
   "metadata": {},
   "source": [
    "1.g"
   ]
  },
  {
   "cell_type": "code",
   "execution_count": 28,
   "metadata": {},
   "outputs": [
    {
     "name": "stdout",
     "output_type": "stream",
     "text": [
      "[2.-0.j 1.-1.j 0.-0.j 1.+1.j]\n",
      "[2.        -0.j         1.70710678-0.70710678j 1.        -1.j\n",
      " 0.29289322-0.70710678j 0.        -0.j         0.29289322+0.70710678j\n",
      " 1.        +1.j         1.70710678+0.70710678j]\n"
     ]
    }
   ],
   "source": [
    "x7n=[1,1,0,0]\n",
    "x8n=[1,1,0,0,0,0,0,0]\n",
    "x7k=scipy.fftpack.fft(x7n)\n",
    "x8k=scipy.fftpack.fft(x8n)\n",
    "print(x7k)\n",
    "print(x8k)"
   ]
  },
  {
   "cell_type": "code",
   "execution_count": null,
   "metadata": {},
   "outputs": [],
   "source": []
  },
  {
   "cell_type": "code",
   "execution_count": 46,
   "metadata": {},
   "outputs": [
    {
     "data": {
      "text/plain": [
       "array([[ 4.,  0.,  0.,  0.],\n",
       "       [ 5.,  8.,  0.,  0.],\n",
       "       [ 6., 10., 12.,  0.],\n",
       "       [ 0., 12., 15.,  0.]])"
      ]
     },
     "execution_count": 46,
     "metadata": {},
     "output_type": "execute_result"
    }
   ],
   "source": [
    "\n",
    "m= np.arange(4).reshape(1,-1)\n",
    "n= np.arange(4).reshape(-1,1)\n",
    "\n",
    "f= np.array([1,2,3])\n",
    "g= np.array([4,5,6])\n",
    "f=np.concatenate((f,np.zeros(3)))\n",
    "g=np.concatenate((g,np.zeros(3)))\n",
    "\n",
    "h= (f[m]*g[n-m])\n",
    "h"
   ]
  },
  {
   "cell_type": "code",
   "execution_count": 44,
   "metadata": {},
   "outputs": [
    {
     "data": {
      "text/plain": [
       "(2, 1, 0)"
      ]
     },
     "execution_count": 44,
     "metadata": {},
     "output_type": "execute_result"
    }
   ],
   "source": [
    "x= np.array([1,1,1,1])\n",
    "w= np.array([1,1])\n",
    "\n",
    "# (f⋆g)[n]\n",
    "# for n in [0,1,2,3]\n",
    "np.dot(x[:2],  w[0:]),\\\n",
    "np.dot(x[:1],w[1:]),\\\n",
    "np.dot(x[:0],w[2:])"
   ]
  },
  {
   "cell_type": "code",
   "execution_count": 47,
   "metadata": {},
   "outputs": [
    {
     "name": "stdout",
     "output_type": "stream",
     "text": [
      "[ 1.25      +0.j          0.92049513-0.44194174j  0.125     -0.625j\n",
      " -0.67049513-0.44194174j -1.        +0.j         -0.67049513+0.44194174j\n",
      "  0.125     +0.625j       0.92049513+0.44194174j]\n"
     ]
    }
   ],
   "source": [
    "x1n = [1,2,0,0,0,0,0,7]\n",
    "x1k= np.fft.ifft(x1n)\n",
    "print(x1k)"
   ]
  },
  {
   "cell_type": "code",
   "execution_count": null,
   "metadata": {},
   "outputs": [],
   "source": []
  }
 ],
 "metadata": {
  "kernelspec": {
   "display_name": "Python 3",
   "language": "python",
   "name": "python3"
  },
  "language_info": {
   "codemirror_mode": {
    "name": "ipython",
    "version": 3
   },
   "file_extension": ".py",
   "mimetype": "text/x-python",
   "name": "python",
   "nbconvert_exporter": "python",
   "pygments_lexer": "ipython3",
   "version": "3.7.6"
  }
 },
 "nbformat": 4,
 "nbformat_minor": 4
}
